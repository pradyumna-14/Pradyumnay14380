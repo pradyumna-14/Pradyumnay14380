{
 "cells": [
  {
   "cell_type": "code",
   "execution_count": 3,
   "id": "d49c8b8b-bfce-48f5-a7bc-15a7340d1bd6",
   "metadata": {},
   "outputs": [],
   "source": [
    "import numpy as np\n",
    "import scipy.stats as stats"
   ]
  },
  {
   "cell_type": "code",
   "execution_count": 6,
   "id": "541dd02f-ca09-4eab-99f0-e2986ac565f8",
   "metadata": {},
   "outputs": [
    {
     "name": "stdout",
     "output_type": "stream",
     "text": [
      "[1.13, 1.55, 1.43, 0.92, 1.25, 1.36, 1.32, 0.85, 1.07, 1.48, 1.2, 1.33, 1.18, 1.22, 1.29]\n"
     ]
    }
   ],
   "source": [
    "# Data: Durability of print-heads in millions of characters\n",
    "durability_data = [1.13, 1.55, 1.43, 0.92, 1.25, 1.36, 1.32, 0.85, 1.07, \n",
    "                   1.48, 1.20, 1.33, 1.18, 1.22, 1.29]\n",
    "print(durability_data)"
   ]
  },
  {
   "cell_type": "code",
   "execution_count": 9,
   "id": "fb686cc4-a1b3-4455-9e9a-a6adeed2d19e",
   "metadata": {},
   "outputs": [],
   "source": [
    "# Convert to numpy array for easier computation\n",
    "data = np.array(durability_data)\n",
    "sample_size = len(data)\n",
    "sample_mean = np.mean(data)\n",
    "sample_std = np.std(data, ddof=1) \n",
    "# ddof=1 for sample standard deviation"
   ]
  },
  {
   "cell_type": "code",
   "execution_count": 19,
   "id": "c6cf1cbb-936f-4a20-9fc6-90ad394a4632",
   "metadata": {},
   "outputs": [
    {
     "name": "stdout",
     "output_type": "stream",
     "text": [
      "0.010000000000000009\n",
      "14\n"
     ]
    }
   ],
   "source": [
    "# a. 99% Confidence Interval using Sample Standard Deviation (t-distribution)\n",
    "confidence_level = 0.99\n",
    "alpha = 1 - confidence_level\n",
    "df = sample_size - 1  # degrees of freedom\n",
    "print(alpha)\n",
    "print(df)"
   ]
  },
  {
   "cell_type": "code",
   "execution_count": 12,
   "id": "16fb7d5e-16c0-43fa-8400-a4e5ca067d79",
   "metadata": {},
   "outputs": [],
   "source": [
    "# t-critical value\n",
    "t_critical = stats.t.ppf(1 - alpha / 2, df)"
   ]
  },
  {
   "cell_type": "code",
   "execution_count": 13,
   "id": "07943685-09ed-4b3a-a6b7-8a6d8ca6ba61",
   "metadata": {},
   "outputs": [],
   "source": [
    "# Margin of Error\n",
    "margin_error_t = t_critical * (sample_std / np.sqrt(sample_size))"
   ]
  },
  {
   "cell_type": "code",
   "execution_count": 14,
   "id": "46cc881a-ccd0-4de6-b7e3-91503c9e1585",
   "metadata": {},
   "outputs": [],
   "source": [
    "# Confidence Interval\n",
    "ci_t = (sample_mean - margin_error_t, sample_mean + margin_error_t)"
   ]
  },
  {
   "cell_type": "code",
   "execution_count": 15,
   "id": "3f1ed335-3b02-421f-802d-7e81d574ce51",
   "metadata": {},
   "outputs": [
    {
     "name": "stdout",
     "output_type": "stream",
     "text": [
      "=== a. Using Sample Standard Deviation (t-distribution) ===\n",
      "Sample Mean: 1.2387\n",
      "Sample Standard Deviation: 0.1932\n",
      "t-critical value (99%): 2.9768\n",
      "99% Confidence Interval: 1.0902 to 1.3871\n"
     ]
    }
   ],
   "source": [
    "print(\"=== a. Using Sample Standard Deviation (t-distribution) ===\")\n",
    "print(f\"Sample Mean: {sample_mean:.4f}\")\n",
    "print(f\"Sample Standard Deviation: {sample_std:.4f}\")\n",
    "print(f\"t-critical value (99%): {t_critical:.4f}\")\n",
    "print(f\"99% Confidence Interval: {ci_t[0]:.4f} to {ci_t[1]:.4f}\")"
   ]
  },
  {
   "cell_type": "code",
   "execution_count": 23,
   "id": "99c64a56-78c8-4c8a-9d67-e2eeb670744a",
   "metadata": {},
   "outputs": [],
   "source": [
    "# b. 99% Confidence Interval using Known Population Standard Deviation (z-distribution)\n",
    "population_std = 0.2\n",
    "z_critical = stats.norm.ppf(1 - alpha / 2)"
   ]
  },
  {
   "cell_type": "code",
   "execution_count": 24,
   "id": "9a384d52-72ca-47bd-9c1c-d40d11a4c3f7",
   "metadata": {},
   "outputs": [],
   "source": [
    "# Margin of Error\n",
    "margin_error_z = z_critical * (population_std / np.sqrt(sample_size))\n"
   ]
  },
  {
   "cell_type": "code",
   "execution_count": 25,
   "id": "09e595a6-4dee-4d45-a1a4-bb6928fff8a8",
   "metadata": {},
   "outputs": [],
   "source": [
    "# Confidence Interval\n",
    "ci_z = (sample_mean - margin_error_z, sample_mean + margin_error_z)"
   ]
  },
  {
   "cell_type": "code",
   "execution_count": 26,
   "id": "a9c5ef5b-e03a-40fe-bc2c-eadd59724f0a",
   "metadata": {},
   "outputs": [
    {
     "name": "stdout",
     "output_type": "stream",
     "text": [
      "\n",
      "=== b. Using Known Population Standard Deviation (z-distribution) ===\n",
      "Population Standard Deviation: 0.2000\n",
      "z-critical value (99%): 2.5758\n",
      "99% Confidence Interval: 1.1057 to 1.3717\n"
     ]
    }
   ],
   "source": [
    "print(\"\\n=== b. Using Known Population Standard Deviation (z-distribution) ===\")\n",
    "print(f\"Population Standard Deviation: {population_std:.4f}\")\n",
    "print(f\"z-critical value (99%): {z_critical:.4f}\")\n",
    "print(f\"99% Confidence Interval: {ci_z[0]:.4f} to {ci_z[1]:.4f}\")"
   ]
  },
  {
   "cell_type": "code",
   "execution_count": null,
   "id": "a28138c2-bbee-4574-8945-2e6d083f8dcb",
   "metadata": {},
   "outputs": [],
   "source": []
  }
 ],
 "metadata": {
  "kernelspec": {
   "display_name": "Python 3 (ipykernel)",
   "language": "python",
   "name": "python3"
  },
  "language_info": {
   "codemirror_mode": {
    "name": "ipython",
    "version": 3
   },
   "file_extension": ".py",
   "mimetype": "text/x-python",
   "name": "python",
   "nbconvert_exporter": "python",
   "pygments_lexer": "ipython3",
   "version": "3.12.7"
  }
 },
 "nbformat": 4,
 "nbformat_minor": 5
}
