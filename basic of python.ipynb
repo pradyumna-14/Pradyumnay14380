{
 "cells": [
  {
   "cell_type": "code",
   "execution_count": 4,
   "id": "f0660daf-7258-42d2-84bf-99c8fa673b42",
   "metadata": {},
   "outputs": [
    {
     "name": "stdin",
     "output_type": "stream",
     "text": [
      "Enter a number to check if it's prime:  3\n"
     ]
    },
    {
     "name": "stdout",
     "output_type": "stream",
     "text": [
      "3 is a prime number.\n"
     ]
    }
   ],
   "source": [
    "# Exercise 1: Prime Numbers\n",
    "# A prime number is only divisible by 1 and itself.\n",
    "\n",
    "def is_prime(n):\n",
    "    \"\"\"Check whether a number is prime.\"\"\"\n",
    "    if n <= 1:\n",
    "        return False\n",
    "    for i in range(2, int(n**0.5) + 1):  # Only need to check up to sqrt(n)\n",
    "        if n % i == 0:\n",
    "            return False\n",
    "    return True\n",
    "# Example usage:\n",
    "num = int(input(\"Enter a number to check if it's prime: \"))\n",
    "if is_prime(num):\n",
    "    print(f\"{num} is a prime number.\")\n",
    "else:\n",
    "    print(f\"{num} is not a prime number.\")"
   ]
  },
  {
   "cell_type": "code",
   "execution_count": 9,
   "id": "a0102aa6-ff5d-4bb4-b165-9b6f26555e58",
   "metadata": {},
   "outputs": [
    {
     "name": "stdout",
     "output_type": "stream",
     "text": [
      "What is the product of 5 and 7?\n"
     ]
    },
    {
     "name": "stdin",
     "output_type": "stream",
     "text": [
      "Your answer:  35\n"
     ]
    },
    {
     "name": "stdout",
     "output_type": "stream",
     "text": [
      "Correct!\n"
     ]
    }
   ],
   "source": [
    "# Exercise 2: Product of Random Numbers\n",
    "# The program asks the user to multiply two randomly generated numbers.\n",
    "\n",
    "import random\n",
    "\n",
    "def check_product():\n",
    "    num1 = random.randint(1, 10)\n",
    "    num2 = random.randint(1, 10)\n",
    "    correct_answer = num1 * num2\n",
    "\n",
    "    print(f\"What is the product of {num1} and {num2}?\")\n",
    "    user_answer = int(input(\"Your answer: \"))\n",
    "\n",
    "    if user_answer == correct_answer:\n",
    "        print(\"Correct!\")\n",
    "    else:\n",
    "        print(f\"Wrong. The correct answer is {correct_answer}.\")\n",
    " # Run the function\n",
    "check_product()\n"
   ]
  },
  {
   "cell_type": "code",
   "execution_count": 10,
   "id": "31202ae2-118d-4c6d-a870-23891c637124",
   "metadata": {},
   "outputs": [
    {
     "name": "stdout",
     "output_type": "stream",
     "text": [
      "Squares of even numbers from 100 to 200:\n",
      "100^2 = 10000\n",
      "102^2 = 10404\n",
      "104^2 = 10816\n",
      "106^2 = 11236\n",
      "108^2 = 11664\n",
      "110^2 = 12100\n",
      "112^2 = 12544\n",
      "114^2 = 12996\n",
      "116^2 = 13456\n",
      "118^2 = 13924\n",
      "120^2 = 14400\n",
      "122^2 = 14884\n",
      "124^2 = 15376\n",
      "126^2 = 15876\n",
      "128^2 = 16384\n",
      "130^2 = 16900\n",
      "132^2 = 17424\n",
      "134^2 = 17956\n",
      "136^2 = 18496\n",
      "138^2 = 19044\n",
      "140^2 = 19600\n",
      "142^2 = 20164\n",
      "144^2 = 20736\n",
      "146^2 = 21316\n",
      "148^2 = 21904\n",
      "150^2 = 22500\n",
      "152^2 = 23104\n",
      "154^2 = 23716\n",
      "156^2 = 24336\n",
      "158^2 = 24964\n",
      "160^2 = 25600\n",
      "162^2 = 26244\n",
      "164^2 = 26896\n",
      "166^2 = 27556\n",
      "168^2 = 28224\n",
      "170^2 = 28900\n",
      "172^2 = 29584\n",
      "174^2 = 30276\n",
      "176^2 = 30976\n",
      "178^2 = 31684\n",
      "180^2 = 32400\n",
      "182^2 = 33124\n",
      "184^2 = 33856\n",
      "186^2 = 34596\n",
      "188^2 = 35344\n",
      "190^2 = 36100\n",
      "192^2 = 36864\n",
      "194^2 = 37636\n",
      "196^2 = 38416\n",
      "198^2 = 39204\n",
      "200^2 = 40000\n"
     ]
    }
   ],
   "source": [
    "# Exercise 3: Squares of Even/Odd Numbers\n",
    "# This example calculates and prints squares of even numbers between 100 and 200.\n",
    "\n",
    "# Chosen: Even numbers\n",
    "print(\"Squares of even numbers from 100 to 200:\")\n",
    "for i in range(100, 201):\n",
    "    if i % 2 == 0:\n",
    "        print(f\"{i}^2 = {i**2}\")\n"
   ]
  },
  {
   "cell_type": "code",
   "execution_count": 11,
   "id": "ed25dca1-d92e-4784-800c-017b37b50b1e",
   "metadata": {},
   "outputs": [
    {
     "name": "stdout",
     "output_type": "stream",
     "text": [
      "'this': 2\n",
      "'is': 1\n",
      "'a': 1\n",
      "'sample': 1\n",
      "'text': 2\n",
      "'will': 1\n",
      "'be': 1\n",
      "'used': 1\n",
      "'to': 1\n",
      "'demonstrate': 1\n",
      "'the': 1\n",
      "'word': 1\n",
      "'counter': 1\n"
     ]
    }
   ],
   "source": [
    "# Exercise 4: Word counter\n",
    "# Count the occurrences of each word in a text.\n",
    "\n",
    "def word_counter(text):\n",
    "    words = text.split()\n",
    "    word_count = {}\n",
    "\n",
    "    for word in words:\n",
    "        word = word.strip('.,!?').lower()  # Normalize by removing punctuation and converting to lowercase\n",
    "        word_count[word] = word_count.get(word, 0) + 1\n",
    "\n",
    "    for word, count in word_count.items():\n",
    "        print(f\"'{word}': {count}\")\n",
    "\n",
    "# Example input\n",
    "input_text = \"This is a sample text. This text will be used to demonstrate the word counter.\"\n",
    "word_counter(input_text)"
   ]
  },
  {
   "cell_type": "code",
   "execution_count": 13,
   "id": "33062fc0-dcb9-49e8-9312-74b6b829a7f2",
   "metadata": {},
   "outputs": [
    {
     "name": "stdin",
     "output_type": "stream",
     "text": [
      "Enter a string to check if it's a palindrome:  1113111\n"
     ]
    },
    {
     "name": "stdout",
     "output_type": "stream",
     "text": [
      "True - It is a palindrome.\n"
     ]
    }
   ],
   "source": [
    "# Exercise 5: Check for Palindrome\n",
    "# Check if a string is the same forward and backward, ignoring spaces and punctuation.\n",
    "\n",
    "def is_palindrome(s):\n",
    "    import re\n",
    "    cleaned = re.sub(r'[^a-zA-Z0-9]', '', s.lower())  # Remove non-alphanumeric characters\n",
    "    return cleaned == cleaned[::-1]\n",
    "\n",
    "# Example usage\n",
    "test_input = input(\"Enter a string to check if it's a palindrome: \")\n",
    "if is_palindrome(test_input):\n",
    "    print(\"True - It is a palindrome.\")\n",
    "else:\n",
    "    print(\"False - It is not a palindrome.\")"
   ]
  },
  {
   "cell_type": "code",
   "execution_count": null,
   "id": "bc2ff80e-6803-4a09-b03b-2ed74dbd5300",
   "metadata": {},
   "outputs": [],
   "source": []
  }
 ],
 "metadata": {
  "kernelspec": {
   "display_name": "Python 3 (ipykernel)",
   "language": "python",
   "name": "python3"
  },
  "language_info": {
   "codemirror_mode": {
    "name": "ipython",
    "version": 3
   },
   "file_extension": ".py",
   "mimetype": "text/x-python",
   "name": "python",
   "nbconvert_exporter": "python",
   "pygments_lexer": "ipython3",
   "version": "3.12.7"
  }
 },
 "nbformat": 4,
 "nbformat_minor": 5
}
