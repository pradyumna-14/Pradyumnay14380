{
 "cells": [
  {
   "cell_type": "code",
   "execution_count": 5,
   "id": "2e37dd4b-d751-49e4-b107-19437dd464f5",
   "metadata": {},
   "outputs": [],
   "source": [
    "# Hypothesis Testing: Weekly Operating Costs\n",
    "\n",
    "import scipy.stats as stats\n",
    "import math\n",
    "\n",
    "# Step 1: State the Hypotheses\n",
    "# H0: The true mean weekly cost is as per the model (μ = 1000 + 5*600 = Rs. 4000)\n",
    "# H1: The true mean weekly cost is greater than Rs. 4000\n"
   ]
  },
  {
   "cell_type": "code",
   "execution_count": 6,
   "id": "5a248c56-24fd-4fb6-aa29-e89987032830",
   "metadata": {},
   "outputs": [],
   "source": [
    "# Step 2: Define given values\n",
    "sample_mean = 3050\n",
    "X_mean = 600\n",
    "sigma_X = 25\n",
    "sample_size = 25"
   ]
  },
  {
   "cell_type": "code",
   "execution_count": 7,
   "id": "8d9e2cd3-e322-4ec1-9639-512fc654de03",
   "metadata": {},
   "outputs": [],
   "source": [
    "# Theoretical mean weekly cost\n",
    "mu = 1000 + 5 * X_mean  # = 1000 + 3000 = Rs. 4000\n",
    "\n",
    "# Standard deviation of the weekly cost\n",
    "std_dev = 5 * sigma_X  # = 5 * 25 = Rs. 125\n",
    "\n",
    "# Standard Error\n",
    "SE = std_dev / math.sqrt(sample_size)\n"
   ]
  },
  {
   "cell_type": "code",
   "execution_count": 8,
   "id": "4ff1d7f1-b2fb-458e-8572-ec4982c6be6a",
   "metadata": {},
   "outputs": [],
   "source": [
    "# Calculate the Test Statistic (Z-score since population std is known)\n",
    "z = (sample_mean - mu) / SE\n",
    "\n",
    "# Step 3: Determine the Critical Value (One-tailed test, alpha = 0.05)\n",
    "alpha = 0.05\n",
    "z_critical = stats.norm.ppf(1 - alpha)\n",
    "\n",
    "# Step 4: Make a Decision\n",
    "reject_null = z > z_critical\n"
   ]
  },
  {
   "cell_type": "code",
   "execution_count": 9,
   "id": "788151ba-d385-420f-af02-95eac8dbb1ed",
   "metadata": {},
   "outputs": [
    {
     "name": "stdout",
     "output_type": "stream",
     "text": [
      "--- Hypothesis Testing Report ---\n",
      "Sample Mean: 3050\n",
      "Theoretical Mean: 4000\n",
      "Standard Deviation: 125\n",
      "Sample Size: 25\n",
      "Standard Error: 25.00\n",
      "Test Statistic (Z): -38.0000\n",
      "Critical Value (Z) at alpha=0.05: 1.6449\n",
      "\n",
      "Decision:\n",
      "Fail to reject the null hypothesis. There is not enough evidence to conclude that the actual weekly operating costs are higher.\n"
     ]
    }
   ],
   "source": [
    "# Step 5: Conclusion\n",
    "\n",
    "def report():\n",
    "    print(\"--- Hypothesis Testing Report ---\")\n",
    "    print(f\"Sample Mean: {sample_mean}\")\n",
    "    print(f\"Theoretical Mean: {mu}\")\n",
    "    print(f\"Standard Deviation: {std_dev}\")\n",
    "    print(f\"Sample Size: {sample_size}\")\n",
    "    print(f\"Standard Error: {SE:.2f}\")\n",
    "    print(f\"Test Statistic (Z): {z:.4f}\")\n",
    "    print(f\"Critical Value (Z) at alpha=0.05: {z_critical:.4f}\")\n",
    "    print(\"\\nDecision:\")\n",
    "    if reject_null:\n",
    "        print(\"Reject the null hypothesis. There is strong evidence that the actual weekly operating costs are higher than the model suggests.\")\n",
    "    else:\n",
    "        print(\"Fail to reject the null hypothesis. There is not enough evidence to conclude that the actual weekly operating costs are higher.\")\n",
    "\n",
    "# Run the report\n",
    "if __name__ == \"__main__\":\n",
    "    report()\n"
   ]
  },
  {
   "cell_type": "code",
   "execution_count": null,
   "id": "a52fb285-ba27-4e90-b3da-de501a7a957f",
   "metadata": {},
   "outputs": [],
   "source": []
  }
 ],
 "metadata": {
  "kernelspec": {
   "display_name": "Python 3 (ipykernel)",
   "language": "python",
   "name": "python3"
  },
  "language_info": {
   "codemirror_mode": {
    "name": "ipython",
    "version": 3
   },
   "file_extension": ".py",
   "mimetype": "text/x-python",
   "name": "python",
   "nbconvert_exporter": "python",
   "pygments_lexer": "ipython3",
   "version": "3.12.7"
  }
 },
 "nbformat": 4,
 "nbformat_minor": 5
}
