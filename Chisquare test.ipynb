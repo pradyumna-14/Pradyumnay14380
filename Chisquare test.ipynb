{
 "cells": [
  {
   "cell_type": "code",
   "execution_count": 1,
   "id": "7233233b-5429-49fb-8262-d48c30f1e46e",
   "metadata": {},
   "outputs": [],
   "source": [
    "# Chi-Square Test for Independence: Device Type vs Customer Satisfaction\n",
    "\n",
    "import scipy.stats as stats\n",
    "import numpy as np\n",
    "import pandas as pd\n"
   ]
  },
  {
   "cell_type": "code",
   "execution_count": 3,
   "id": "5bab8209-8a97-4493-a64b-136bfca847db",
   "metadata": {},
   "outputs": [
    {
     "data": {
      "text/plain": [
       "array([[ 50,  70],\n",
       "       [ 80, 100],\n",
       "       [ 60,  90],\n",
       "       [ 30,  50],\n",
       "       [ 20,  50]])"
      ]
     },
     "execution_count": 3,
     "metadata": {},
     "output_type": "execute_result"
    }
   ],
   "source": [
    "# Step 1: Define the observed data as a contingency table\n",
    "data = np.array([\n",
    "    [50, 70],  # Very Satisfied\n",
    "    [80, 100], # Satisfied\n",
    "    [60, 90],  # Neutral\n",
    "    [30, 50],  # Unsatisfied\n",
    "    [20, 50]   # Very Unsatisfied\n",
    "])\n",
    "data"
   ]
  },
  {
   "cell_type": "code",
   "execution_count": 6,
   "id": "2bbaa54f-515a-41f4-b89b-39cb6093c15a",
   "metadata": {},
   "outputs": [],
   "source": [
    "# Step 2: State the hypotheses\n",
    "# H0 (Null Hypothesis): There is no association between device type and customer satisfaction.\n",
    "# H1 (Alternative Hypothesis): There is an association between device type and customer satisfaction.\n",
    "\n",
    "# Step 3: Compute the Chi-Square Statistic\n",
    "chi2_stat, p_val, dof, expected = stats.chi2_contingency(data)"
   ]
  },
  {
   "cell_type": "code",
   "execution_count": 7,
   "id": "8f6c9994-b763-4076-a461-ad823ff8046b",
   "metadata": {},
   "outputs": [],
   "source": [
    "# Step 4: Determine the Critical Value\n",
    "alpha = 0.05\n",
    "critical_value = stats.chi2.ppf(q = 1 - alpha, df = dof)\n",
    "\n",
    "# Step 5: Make a Decision\n",
    "reject_null = chi2_stat > critical_value"
   ]
  },
  {
   "cell_type": "code",
   "execution_count": 8,
   "id": "a86c6f6d-4515-447a-8832-9e4af9c251b4",
   "metadata": {},
   "outputs": [
    {
     "name": "stdout",
     "output_type": "stream",
     "text": [
      "--- Chi-Square Test Report ---\n",
      "Chi-Square Statistic: 5.6382\n",
      "Degrees of Freedom: 4\n",
      "Critical Value at alpha=0.05: 9.4877\n",
      "P-Value: 0.2278\n",
      "\n",
      "Expected Frequencies:\n",
      "                  Smart Thermostat  Smart Light\n",
      "Very Satisfied                48.0         72.0\n",
      "Satisfied                     72.0        108.0\n",
      "Neutral                       60.0         90.0\n",
      "Unsatisfied                   32.0         48.0\n",
      "Very Unsatisfied              28.0         42.0\n",
      "\n",
      "Decision:\n",
      "Fail to reject the null hypothesis. There is no significant association between device type and customer satisfaction.\n"
     ]
    }
   ],
   "source": [
    "# Create a detailed report\n",
    "def report():\n",
    "    print(\"--- Chi-Square Test Report ---\")\n",
    "    print(f\"Chi-Square Statistic: {chi2_stat:.4f}\")\n",
    "    print(f\"Degrees of Freedom: {dof}\")\n",
    "    print(f\"Critical Value at alpha=0.05: {critical_value:.4f}\")\n",
    "    print(f\"P-Value: {p_val:.4f}\")\n",
    "    print(\"\\nExpected Frequencies:\")\n",
    "    print(pd.DataFrame(expected, columns=[\"Smart Thermostat\", \"Smart Light\"], \n",
    "                       index=[\"Very Satisfied\", \"Satisfied\", \"Neutral\", \"Unsatisfied\", \"Very Unsatisfied\"]))\n",
    "    print(\"\\nDecision:\")\n",
    "    if reject_null:\n",
    "        print(\"Reject the null hypothesis. There is a significant association between device type and customer satisfaction.\")\n",
    "    else:\n",
    "        print(\"Fail to reject the null hypothesis. There is no significant association between device type and customer satisfaction.\")\n",
    "\n",
    "# Run the report\n",
    "if __name__ == \"__main__\":\n",
    "    report()\n"
   ]
  },
  {
   "cell_type": "code",
   "execution_count": null,
   "id": "e88b3b92-9923-4a0f-ae2d-059f37a50c24",
   "metadata": {},
   "outputs": [],
   "source": []
  }
 ],
 "metadata": {
  "kernelspec": {
   "display_name": "Python 3 (ipykernel)",
   "language": "python",
   "name": "python3"
  },
  "language_info": {
   "codemirror_mode": {
    "name": "ipython",
    "version": 3
   },
   "file_extension": ".py",
   "mimetype": "text/x-python",
   "name": "python",
   "nbconvert_exporter": "python",
   "pygments_lexer": "ipython3",
   "version": "3.12.7"
  }
 },
 "nbformat": 4,
 "nbformat_minor": 5
}
