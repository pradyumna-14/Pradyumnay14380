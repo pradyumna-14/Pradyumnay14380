{
 "cells": [
  {
   "cell_type": "code",
   "execution_count": 4,
   "id": "6c6cea2e-1947-49b8-bd2b-367c7f880abb",
   "metadata": {},
   "outputs": [
    {
     "data": {
      "text/html": [
       "<div>\n",
       "<style scoped>\n",
       "    .dataframe tbody tr th:only-of-type {\n",
       "        vertical-align: middle;\n",
       "    }\n",
       "\n",
       "    .dataframe tbody tr th {\n",
       "        vertical-align: top;\n",
       "    }\n",
       "\n",
       "    .dataframe thead th {\n",
       "        text-align: right;\n",
       "    }\n",
       "</style>\n",
       "<table border=\"1\" class=\"dataframe\">\n",
       "  <thead>\n",
       "    <tr style=\"text-align: right;\">\n",
       "      <th></th>\n",
       "      <th>shrimp,almonds,avocado,vegetables mix,green grapes,whole weat flour,yams,cottage cheese,energy drink,tomato juice,low fat yogurt,green tea,honey,salad,mineral water,salmon,antioxydant juice,frozen smoothie,spinach,olive oil</th>\n",
       "    </tr>\n",
       "  </thead>\n",
       "  <tbody>\n",
       "    <tr>\n",
       "      <th>0</th>\n",
       "      <td>burgers,meatballs,eggs</td>\n",
       "    </tr>\n",
       "    <tr>\n",
       "      <th>1</th>\n",
       "      <td>chutney</td>\n",
       "    </tr>\n",
       "    <tr>\n",
       "      <th>2</th>\n",
       "      <td>turkey,avocado</td>\n",
       "    </tr>\n",
       "    <tr>\n",
       "      <th>3</th>\n",
       "      <td>mineral water,milk,energy bar,whole wheat rice...</td>\n",
       "    </tr>\n",
       "    <tr>\n",
       "      <th>4</th>\n",
       "      <td>low fat yogurt</td>\n",
       "    </tr>\n",
       "    <tr>\n",
       "      <th>...</th>\n",
       "      <td>...</td>\n",
       "    </tr>\n",
       "    <tr>\n",
       "      <th>7495</th>\n",
       "      <td>butter,light mayo,fresh bread</td>\n",
       "    </tr>\n",
       "    <tr>\n",
       "      <th>7496</th>\n",
       "      <td>burgers,frozen vegetables,eggs,french fries,ma...</td>\n",
       "    </tr>\n",
       "    <tr>\n",
       "      <th>7497</th>\n",
       "      <td>chicken</td>\n",
       "    </tr>\n",
       "    <tr>\n",
       "      <th>7498</th>\n",
       "      <td>escalope,green tea</td>\n",
       "    </tr>\n",
       "    <tr>\n",
       "      <th>7499</th>\n",
       "      <td>eggs,frozen smoothie,yogurt cake,low fat yogurt</td>\n",
       "    </tr>\n",
       "  </tbody>\n",
       "</table>\n",
       "<p>7500 rows × 1 columns</p>\n",
       "</div>"
      ],
      "text/plain": [
       "     shrimp,almonds,avocado,vegetables mix,green grapes,whole weat flour,yams,cottage cheese,energy drink,tomato juice,low fat yogurt,green tea,honey,salad,mineral water,salmon,antioxydant juice,frozen smoothie,spinach,olive oil\n",
       "0                                burgers,meatballs,eggs                                                                                                                                                                             \n",
       "1                                               chutney                                                                                                                                                                             \n",
       "2                                        turkey,avocado                                                                                                                                                                             \n",
       "3     mineral water,milk,energy bar,whole wheat rice...                                                                                                                                                                             \n",
       "4                                        low fat yogurt                                                                                                                                                                             \n",
       "...                                                 ...                                                                                                                                                                             \n",
       "7495                      butter,light mayo,fresh bread                                                                                                                                                                             \n",
       "7496  burgers,frozen vegetables,eggs,french fries,ma...                                                                                                                                                                             \n",
       "7497                                            chicken                                                                                                                                                                             \n",
       "7498                                 escalope,green tea                                                                                                                                                                             \n",
       "7499    eggs,frozen smoothie,yogurt cake,low fat yogurt                                                                                                                                                                             \n",
       "\n",
       "[7500 rows x 1 columns]"
      ]
     },
     "execution_count": 4,
     "metadata": {},
     "output_type": "execute_result"
    }
   ],
   "source": [
    "import pandas as pd\n",
    "\n",
    "# Load Excel file\n",
    "df = pd.read_excel(r\"C:\\Users\\91808\\Downloads\\Online retail.xlsx\")  # Replace with your actual file path\n",
    "df"
   ]
  },
  {
   "cell_type": "code",
   "execution_count": 5,
   "id": "29946bcd-17a8-4134-a3c6-2f79188b84ae",
   "metadata": {},
   "outputs": [
    {
     "data": {
      "text/plain": [
       "Index(['shrimp,almonds,avocado,vegetables mix,green grapes,whole weat flour,yams,cottage cheese,energy drink,tomato juice,low fat yogurt,green tea,honey,salad,mineral water,salmon,antioxydant juice,frozen smoothie,spinach,olive oil'], dtype='object')"
      ]
     },
     "execution_count": 5,
     "metadata": {},
     "output_type": "execute_result"
    }
   ],
   "source": [
    "df.columns"
   ]
  },
  {
   "cell_type": "code",
   "execution_count": 7,
   "id": "85069719-6fe0-4abb-a4aa-6580dbb84bf4",
   "metadata": {},
   "outputs": [
    {
     "data": {
      "text/plain": [
       "(7500, 1)"
      ]
     },
     "execution_count": 7,
     "metadata": {},
     "output_type": "execute_result"
    }
   ],
   "source": [
    "df.shape"
   ]
  },
  {
   "cell_type": "code",
   "execution_count": 8,
   "id": "7098a3ee-1fb8-4b92-881b-648f0217a9ba",
   "metadata": {},
   "outputs": [
    {
     "name": "stdout",
     "output_type": "stream",
     "text": [
      "<class 'pandas.core.frame.DataFrame'>\n",
      "RangeIndex: 7500 entries, 0 to 7499\n",
      "Data columns (total 1 columns):\n",
      " #   Column                                                                                                                                                                                                                           Non-Null Count  Dtype \n",
      "---  ------                                                                                                                                                                                                                           --------------  ----- \n",
      " 0   shrimp,almonds,avocado,vegetables mix,green grapes,whole weat flour,yams,cottage cheese,energy drink,tomato juice,low fat yogurt,green tea,honey,salad,mineral water,salmon,antioxydant juice,frozen smoothie,spinach,olive oil  7500 non-null   object\n",
      "dtypes: object(1)\n",
      "memory usage: 58.7+ KB\n"
     ]
    }
   ],
   "source": [
    "df.info()"
   ]
  },
  {
   "cell_type": "code",
   "execution_count": 46,
   "id": "680daf52-d6b5-473f-8f10-fe789bf7458f",
   "metadata": {},
   "outputs": [
    {
     "name": "stdout",
     "output_type": "stream",
     "text": [
      "Defaulting to user installation because normal site-packages is not writeable\n",
      "Requirement already satisfied: mlxtend in c:\\users\\91808\\appdata\\roaming\\python\\python312\\site-packages (0.23.4)\n",
      "Requirement already satisfied: scipy>=1.2.1 in c:\\programdata\\anaconda3\\lib\\site-packages (from mlxtend) (1.13.1)\n",
      "Requirement already satisfied: numpy>=1.16.2 in c:\\programdata\\anaconda3\\lib\\site-packages (from mlxtend) (1.26.4)\n",
      "Requirement already satisfied: pandas>=0.24.2 in c:\\programdata\\anaconda3\\lib\\site-packages (from mlxtend) (2.2.2)\n",
      "Requirement already satisfied: scikit-learn>=1.3.1 in c:\\programdata\\anaconda3\\lib\\site-packages (from mlxtend) (1.5.1)\n",
      "Requirement already satisfied: matplotlib>=3.0.0 in c:\\programdata\\anaconda3\\lib\\site-packages (from mlxtend) (3.9.2)\n",
      "Requirement already satisfied: joblib>=0.13.2 in c:\\programdata\\anaconda3\\lib\\site-packages (from mlxtend) (1.4.2)\n",
      "Requirement already satisfied: contourpy>=1.0.1 in c:\\programdata\\anaconda3\\lib\\site-packages (from matplotlib>=3.0.0->mlxtend) (1.2.0)\n",
      "Requirement already satisfied: cycler>=0.10 in c:\\programdata\\anaconda3\\lib\\site-packages (from matplotlib>=3.0.0->mlxtend) (0.11.0)\n",
      "Requirement already satisfied: fonttools>=4.22.0 in c:\\programdata\\anaconda3\\lib\\site-packages (from matplotlib>=3.0.0->mlxtend) (4.51.0)\n",
      "Requirement already satisfied: kiwisolver>=1.3.1 in c:\\programdata\\anaconda3\\lib\\site-packages (from matplotlib>=3.0.0->mlxtend) (1.4.4)\n",
      "Requirement already satisfied: packaging>=20.0 in c:\\programdata\\anaconda3\\lib\\site-packages (from matplotlib>=3.0.0->mlxtend) (24.1)\n",
      "Requirement already satisfied: pillow>=8 in c:\\programdata\\anaconda3\\lib\\site-packages (from matplotlib>=3.0.0->mlxtend) (10.4.0)\n",
      "Requirement already satisfied: pyparsing>=2.3.1 in c:\\programdata\\anaconda3\\lib\\site-packages (from matplotlib>=3.0.0->mlxtend) (3.1.2)\n",
      "Requirement already satisfied: python-dateutil>=2.7 in c:\\programdata\\anaconda3\\lib\\site-packages (from matplotlib>=3.0.0->mlxtend) (2.9.0.post0)\n",
      "Requirement already satisfied: pytz>=2020.1 in c:\\programdata\\anaconda3\\lib\\site-packages (from pandas>=0.24.2->mlxtend) (2024.1)\n",
      "Requirement already satisfied: tzdata>=2022.7 in c:\\programdata\\anaconda3\\lib\\site-packages (from pandas>=0.24.2->mlxtend) (2023.3)\n",
      "Requirement already satisfied: threadpoolctl>=3.1.0 in c:\\programdata\\anaconda3\\lib\\site-packages (from scikit-learn>=1.3.1->mlxtend) (3.5.0)\n",
      "Requirement already satisfied: six>=1.5 in c:\\programdata\\anaconda3\\lib\\site-packages (from python-dateutil>=2.7->matplotlib>=3.0.0->mlxtend) (1.16.0)\n",
      "Note: you may need to restart the kernel to use updated packages.\n"
     ]
    }
   ],
   "source": [
    "pip install mlxtend\n"
   ]
  },
  {
   "cell_type": "code",
   "execution_count": 52,
   "id": "169f4a49-5f0d-453b-9632-e6440adda5eb",
   "metadata": {},
   "outputs": [],
   "source": [
    "# Convert comma-separated items into list of transactions \n",
    "transactions = []\n",
    "for row in df.iloc[:, 0]:\n",
    "    items = row.split(',')  # Split the string by comma\n",
    "    transactions.append(items)\n"
   ]
  },
  {
   "cell_type": "code",
   "execution_count": 55,
   "id": "23dc3279-84c1-42fe-8575-6c57a497bf50",
   "metadata": {},
   "outputs": [],
   "source": [
    "from mlxtend.preprocessing import TransactionEncoder\n",
    "import pandas as pd\n",
    "\n",
    "# Initialize and fit the encoder\n",
    "te = TransactionEncoder()\n",
    "te.fit(transactions)\n",
    "\n",
    "# Transform and convert to DataFrame (step-by-step)\n",
    "encoded_array = te.transform(transactions)\n",
    "df_encoded = pd.DataFrame(data=encoded_array, columns=te.columns_)"
   ]
  },
  {
   "cell_type": "code",
   "execution_count": 56,
   "id": "de1fb846-59ef-4d88-b24b-a24206e44c93",
   "metadata": {},
   "outputs": [],
   "source": [
    "from mlxtend.frequent_patterns import apriori, association_rules\n",
    "\n",
    "# Define thresholds\n",
    "support_values = [0.02, 0.03, 0.05, 0.07]\n",
    "confidence_values = [0.2, 0.4, 0.6, 0.8]\n",
    "\n",
    "# Store results\n",
    "results = []\n",
    "\n",
    "# Loop through combinations of support and confidence\n",
    "for support in support_values:\n",
    "    frequent_itemsets = apriori(df_encoded, min_support=support, use_colnames=True)\n",
    "    \n",
    "    for confidence in confidence_values:\n",
    "        rules = association_rules(frequent_itemsets, metric=\"confidence\", min_threshold=confidence)\n",
    "        rules['support_level'] = support\n",
    "        rules['confidence_level'] = confidence\n",
    "        results.append(rules)"
   ]
  },
  {
   "cell_type": "code",
   "execution_count": 57,
   "id": "bb69c713-6492-4db8-9c1d-51972a049df2",
   "metadata": {},
   "outputs": [
    {
     "name": "stdout",
     "output_type": "stream",
     "text": [
      "→ Support: 0.02, Confidence: 0.20 | Rules Found: 125\n",
      "→ Support: 0.02, Confidence: 0.40 | Rules Found: 11\n",
      "→ Support: 0.02, Confidence: 0.60 | Rules Found: 0\n",
      "→ Support: 0.02, Confidence: 0.80 | Rules Found: 0\n",
      "→ Support: 0.03, Confidence: 0.20 | Rules Found: 57\n",
      "→ Support: 0.03, Confidence: 0.40 | Rules Found: 4\n",
      "→ Support: 0.03, Confidence: 0.60 | Rules Found: 0\n",
      "→ Support: 0.03, Confidence: 0.80 | Rules Found: 0\n",
      "→ Support: 0.05, Confidence: 0.20 | Rules Found: 18\n",
      "→ Support: 0.05, Confidence: 0.40 | Rules Found: 2\n",
      "→ Support: 0.05, Confidence: 0.60 | Rules Found: 0\n",
      "→ Support: 0.05, Confidence: 0.80 | Rules Found: 0\n",
      "→ Support: 0.07, Confidence: 0.20 | Rules Found: 6\n",
      "→ Support: 0.07, Confidence: 0.40 | Rules Found: 0\n",
      "→ Support: 0.07, Confidence: 0.60 | Rules Found: 0\n",
      "→ Support: 0.07, Confidence: 0.80 | Rules Found: 0\n"
     ]
    }
   ],
   "source": [
    "from mlxtend.frequent_patterns import apriori, association_rules\n",
    "\n",
    "# Define lists to store the results\n",
    "results = []\n",
    "\n",
    "# Iterate through each combination of support and confidence\n",
    "for support in support_values:\n",
    "    freq_itemsets = apriori(df_encoded, min_support=support, use_colnames=True)\n",
    "    \n",
    "    for confidence in confidence_values:\n",
    "        generated_rules = association_rules(freq_itemsets, metric=\"confidence\", min_threshold=confidence)\n",
    "        rule_count = generated_rules.shape[0]\n",
    "\n",
    "        # Append result as a dictionary\n",
    "        results.append(dict(\n",
    "            support=support,\n",
    "            confidence=confidence,\n",
    "            n_rules=rule_count\n",
    "        ))\n",
    "\n",
    "        # Display progress\n",
    "        print(f\"→ Support: {support:.2f}, Confidence: {confidence:.2f} | Rules Found: {rule_count}\")"
   ]
  },
  {
   "cell_type": "code",
   "execution_count": 58,
   "id": "6ef1bed7-11ad-497d-8c0b-fc83123784e9",
   "metadata": {},
   "outputs": [
    {
     "data": {
      "image/png": "[encoded data removed]",
      "text/plain": [
       "<Figure size 900x600 with 2 Axes>"
      ]
     },
     "metadata": {},
     "output_type": "display_data"
    }
   ],
   "source": [
    "import matplotlib.pyplot as plt\n",
    "import seaborn as sns\n",
    "\n",
    "# Convert results to DataFrame if not already\n",
    "results_df = pd.DataFrame(results)\n",
    "\n",
    "# Pivot for heatmap\n",
    "heatmap_data = results_df.pivot_table(index=\"support\", columns=\"confidence\", values=\"n_rules\", aggfunc='first')\n",
    "\n",
    "# Set up the plot\n",
    "fig, ax = plt.subplots(figsize=(9, 6))\n",
    "sns.heatmap(heatmap_data,annot=True,fmt=\".0f\",cmap=\"Blues\",linewidths=0.5,linecolor='gray',ax=ax)\n",
    "\n",
    "# Customize plot\n",
    "ax.set_title(\"Association Rules by Support & Confidence\", fontsize=14, weight='bold')\n",
    "ax.set_xlabel(\"Confidence Threshold\", fontsize=12)\n",
    "ax.set_ylabel(\"Support Threshold\", fontsize=12)\n",
    "plt.tight_layout()\n",
    "plt.show()\n"
   ]
  },
  {
   "cell_type": "code",
   "execution_count": 59,
   "id": "671a6e4f-63b3-45f5-b6e9-bb749302ceaa",
   "metadata": {},
   "outputs": [
    {
     "name": "stdout",
     "output_type": "stream",
     "text": [
      " Top 10 Association Rules Sorted by Lift:\n",
      "\n",
      "                 antecedents     consequents  support  confidence     lift\n",
      "(ground beef, mineral water)     (spaghetti) 0.024734    0.421053 1.834131\n",
      "               (ground beef)     (spaghetti) 0.055845    0.411095 1.790756\n",
      "                      (soup) (mineral water) 0.033430    0.471390 1.572818\n",
      "           (spaghetti, milk) (mineral water) 0.022609    0.451737 1.507248\n",
      "           (milk, chocolate) (mineral water) 0.020097    0.448276 1.495698\n",
      "    (ground beef, spaghetti) (mineral water) 0.024734    0.442907 1.477783\n",
      "                 (olive oil) (mineral water) 0.038454    0.439294 1.465728\n",
      "               (ground beef) (mineral water) 0.058744    0.432432 1.442835\n",
      "      (spaghetti, chocolate) (mineral water) 0.022995    0.411765 1.373876\n",
      "               (cooking oil) (mineral water) 0.028986    0.403226 1.345386\n"
     ]
    }
   ],
   "source": [
    "from mlxtend.frequent_patterns import apriori, association_rules\n",
    "\n",
    "# Parameters\n",
    "selected_support = 0.02\n",
    "selected_confidence = 0.4\n",
    "\n",
    "# Generate frequent itemsets\n",
    "frequent_itemsets = apriori(df_encoded, min_support=selected_support, use_colnames=True)\n",
    "\n",
    "# Generate association rules\n",
    "assoc_rules = association_rules(frequent_itemsets, metric=\"confidence\", min_threshold=selected_confidence)\n",
    "\n",
    "# Sort rules by lift (descending) and select top 10\n",
    "top_rules = assoc_rules.sort_values(\"lift\", ascending=False).iloc[:10]\n",
    "\n",
    "# Display output\n",
    "print(\" Top 10 Association Rules Sorted by Lift:\\n\")\n",
    "print(top_rules[['antecedents', 'consequents', 'support', 'confidence', 'lift']].to_string(index=False))\n"
   ]
  },
  {
   "cell_type": "code",
   "execution_count": null,
   "id": "b5544b1b-2988-4b76-b115-cafb505f50cb",
   "metadata": {},
   "outputs": [],
   "source": []
  }
 ],
 "metadata": {
  "kernelspec": {
   "display_name": "Python 3 (ipykernel)",
   "language": "python",
   "name": "python3"
  },
  "language_info": {
   "codemirror_mode": {
    "name": "ipython",
    "version": 3
   },
   "file_extension": ".py",
   "mimetype": "text/x-python",
   "name": "python",
   "nbconvert_exporter": "python",
   "pygments_lexer": "ipython3",
   "version": "3.12.7"
  }
 },
 "nbformat": 4,
 "nbformat_minor": 5
}
